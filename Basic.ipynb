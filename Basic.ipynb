{
 "cells": [
  {
   "cell_type": "markdown",
   "id": "a25886e4",
   "metadata": {},
   "source": [
    "# 증강X + 기본 CNN"
   ]
  },
  {
   "cell_type": "markdown",
   "id": "3ad4426b-7702-4d27-9ed6-cfd1e850237a",
   "metadata": {},
   "source": [
    "# 데이터 불러오기 및 라벨링"
   ]
  },
  {
   "cell_type": "code",
   "execution_count": 1,
   "id": "7f02d654",
   "metadata": {},
   "outputs": [
    {
     "name": "stderr",
     "output_type": "stream",
     "text": [
      "2024-08-30 14:41:47.246637: I tensorflow/core/platform/cpu_feature_guard.cc:193] This TensorFlow binary is optimized with oneAPI Deep Neural Network Library (oneDNN) to use the following CPU instructions in performance-critical operations:  SSE4.1 SSE4.2 AVX AVX2 AVX512F AVX512_VNNI FMA\n",
      "To enable them in other operations, rebuild TensorFlow with the appropriate compiler flags.\n",
      "2024-08-30 14:41:47.355943: I tensorflow/core/util/port.cc:104] oneDNN custom operations are on. You may see slightly different numerical results due to floating-point round-off errors from different computation orders. To turn them off, set the environment variable `TF_ENABLE_ONEDNN_OPTS=0`.\n"
     ]
    },
    {
     "name": "stdout",
     "output_type": "stream",
     "text": [
      "4 Physical GPUs, 4 Logical GPUs\n"
     ]
    },
    {
     "name": "stderr",
     "output_type": "stream",
     "text": [
      "2024-08-30 14:41:56.732475: I tensorflow/core/platform/cpu_feature_guard.cc:193] This TensorFlow binary is optimized with oneAPI Deep Neural Network Library (oneDNN) to use the following CPU instructions in performance-critical operations:  SSE4.1 SSE4.2 AVX AVX2 AVX512F AVX512_VNNI FMA\n",
      "To enable them in other operations, rebuild TensorFlow with the appropriate compiler flags.\n",
      "2024-08-30 14:41:58.351170: I tensorflow/core/common_runtime/gpu/gpu_device.cc:1613] Created device /job:localhost/replica:0/task:0/device:GPU:0 with 14825 MB memory:  -> device: 0, name: Quadro RTX 5000, pci bus id: 0000:3b:00.0, compute capability: 7.5\n",
      "2024-08-30 14:41:58.352216: I tensorflow/core/common_runtime/gpu/gpu_device.cc:1613] Created device /job:localhost/replica:0/task:0/device:GPU:1 with 14825 MB memory:  -> device: 1, name: Quadro RTX 5000, pci bus id: 0000:5e:00.0, compute capability: 7.5\n",
      "2024-08-30 14:41:58.353171: I tensorflow/core/common_runtime/gpu/gpu_device.cc:1613] Created device /job:localhost/replica:0/task:0/device:GPU:2 with 14825 MB memory:  -> device: 2, name: Quadro RTX 5000, pci bus id: 0000:86:00.0, compute capability: 7.5\n",
      "2024-08-30 14:41:58.354123: I tensorflow/core/common_runtime/gpu/gpu_device.cc:1613] Created device /job:localhost/replica:0/task:0/device:GPU:3 with 14825 MB memory:  -> device: 3, name: Quadro RTX 5000, pci bus id: 0000:af:00.0, compute capability: 7.5\n"
     ]
    }
   ],
   "source": [
    "import tensorflow as tf\n",
    "gpus = tf.config.experimental.list_physical_devices('GPU')\n",
    "if gpus:\n",
    "    try:\n",
    "        # Currently, memory growth needs to be the same across GPUs\n",
    "        for gpu in gpus:\n",
    "            tf.config.experimental.set_memory_growth(gpu, True)\n",
    "        logical_gpus = tf.config.experimental.list_logical_devices('GPU')\n",
    "        print(len(gpus), \"Physical GPUs,\", len(logical_gpus), \"Logical GPUs\")\n",
    "    except RuntimeError as e:\n",
    "        # Memory growth must be set before GPUs have been initialized\n",
    "        print(e)"
   ]
  },
  {
   "cell_type": "code",
   "execution_count": 2,
   "id": "0ac84fc3-db36-4bec-abcb-a7ef436e4fff",
   "metadata": {},
   "outputs": [],
   "source": [
    "import os\n",
    "\n",
    "# 데이터셋의 루트 디렉토리\n",
    "dataset_directory = '/home/jeonk636/ear_classification/eardrumDs'\n",
    "\n",
    "# 클래스 이름 및 라벨을 매핑하기 위한 딕셔너리 생성\n",
    "# normal:0, abnormal: 1\n",
    "label_map = {\n",
    "    'Aom': 1,\n",
    "    'Chornic': 1,\n",
    "    'Earwax': 1,\n",
    "    'Normal': 0,\n",
    "    'OtitExterna': 1,\n",
    "    'tympanoskleros': 1\n",
    "}\n",
    "\n",
    "# 이미지 파일 경로 및 라벨을 저장할 리스트\n",
    "image_paths = []\n",
    "image_labels = []\n",
    "\n",
    "# 제외 폴더\n",
    "exclude_folders = {'Earventulation', 'Foreign', 'PseduoMembran'}\n",
    "\n",
    "# 각 폴더에 대해 이미지 파일 경로 및 해당 라벨을 리스트에 추가\n",
    "for label_folder in os.listdir(dataset_directory):\n",
    "    if label_folder in exclude_folders:  # 이 폴더는 건너뛴다.\n",
    "        continue\n",
    "    folder_path = os.path.join(dataset_directory, label_folder)\n",
    "    \n",
    "    for image_filename in os.listdir(folder_path):\n",
    "        # 폴더 내 파일이 실제 파일인지 확인하고 '.ipynb_checkpoints' 폴더를 건너뛴다.\n",
    "        full_path = os.path.join(folder_path, image_filename)\n",
    "        if os.path.isfile(full_path) and '.ipynb_checkpoints' not in full_path:\n",
    "            image_paths.append(full_path)\n",
    "            image_labels.append(label_map[label_folder])"
   ]
  },
  {
   "cell_type": "code",
   "execution_count": 3,
   "id": "7e087d6f-0eee-4127-b394-df2c06e2780b",
   "metadata": {},
   "outputs": [
    {
     "data": {
      "text/plain": [
       "['/home/jeonk636/ear_classification/eardrumDs/Aom/aom_1.tiff',\n",
       " '/home/jeonk636/ear_classification/eardrumDs/Aom/aom_10.tiff',\n",
       " '/home/jeonk636/ear_classification/eardrumDs/Aom/aom_100.tiff',\n",
       " '/home/jeonk636/ear_classification/eardrumDs/Aom/aom_101.tiff',\n",
       " '/home/jeonk636/ear_classification/eardrumDs/Aom/aom_102.tiff']"
      ]
     },
     "execution_count": 3,
     "metadata": {},
     "output_type": "execute_result"
    }
   ],
   "source": [
    "image_paths[0:5]"
   ]
  },
  {
   "cell_type": "code",
   "execution_count": 4,
   "id": "3329e4e3-5f0e-45a8-beb9-b666f5969005",
   "metadata": {},
   "outputs": [
    {
     "name": "stdout",
     "output_type": "stream",
     "text": [
      "[1, 1, 1, 1, 1, 1, 1, 1, 1, 1, 1, 1, 1, 1, 1, 1, 1, 1, 1, 1, 1, 1, 1, 1, 1, 1, 1, 1, 1, 1, 1, 1, 1, 1, 1, 1, 1, 1, 1, 1, 1, 1, 1, 1, 1, 1, 1, 1, 1, 1]\n"
     ]
    }
   ],
   "source": [
    "print(image_labels[0:50])"
   ]
  },
  {
   "cell_type": "code",
   "execution_count": 5,
   "id": "1f77f815-6c6d-4f28-8ee0-3b0cf731336c",
   "metadata": {},
   "outputs": [
    {
     "data": {
      "text/plain": [
       "(534, 391)"
      ]
     },
     "execution_count": 5,
     "metadata": {},
     "output_type": "execute_result"
    }
   ],
   "source": [
    "# 라벨 0과 라벨 1의 개수를 계산.\n",
    "label_0_count = image_labels.count(0)\n",
    "label_1_count = image_labels.count(1)\n",
    "\n",
    "(label_0_count, label_1_count)"
   ]
  },
  {
   "cell_type": "markdown",
   "id": "00b0af22-57b4-4c72-a6d5-2b059e796787",
   "metadata": {},
   "source": [
    "# Split the Dataset 6 : 2 : 2 "
   ]
  },
  {
   "cell_type": "code",
   "execution_count": 7,
   "id": "565ac24f-2fa0-410a-acba-f78f314214f8",
   "metadata": {},
   "outputs": [],
   "source": [
    "import numpy as np\n",
    "from sklearn.model_selection import train_test_split\n",
    "\n",
    "# 이미지 경로와 라벨을 Numpy 배열로 변환\n",
    "image_paths = np.array(image_paths)\n",
    "image_labels = np.array(image_labels)\n",
    "\n",
    "# 전체 데이터를 훈련+검증 세트와 테스트 세트로 분할\n",
    "x_train_all, x_test, y_train_all, y_test = train_test_split(\n",
    "    image_paths, image_labels, stratify=image_labels, test_size=0.2, random_state=42)\n",
    "\n",
    "# 훈련+검증 세트를 훈련 세트와 검증 세트로 분할\n",
    "x_train, x_val, y_train, y_val = train_test_split(\n",
    "    x_train_all, y_train_all, stratify=y_train_all, test_size=0.2, random_state=42)"
   ]
  },
  {
   "cell_type": "code",
   "execution_count": 8,
   "id": "6d72220e-959e-48bf-8e24-46dff770065b",
   "metadata": {},
   "outputs": [
    {
     "name": "stdout",
     "output_type": "stream",
     "text": [
      "Train set: 592\n",
      "Validation set: 148\n",
      "Test set: 185\n"
     ]
    }
   ],
   "source": [
    "# 결과 출력\n",
    "print(\"Train set:\", len(x_train))\n",
    "print(\"Validation set:\", len(x_val))\n",
    "print(\"Test set:\", len(x_test))"
   ]
  },
  {
   "cell_type": "code",
   "execution_count": 9,
   "id": "32a0ae48-e314-49ae-840d-5c96c1ec4090",
   "metadata": {},
   "outputs": [
    {
     "name": "stdout",
     "output_type": "stream",
     "text": [
      "Normal in Train set: 342\n",
      "Abnormal in Train set: 250\n"
     ]
    }
   ],
   "source": [
    "print(\"Normal in Train set:\", np.count_nonzero(y_train == 0))\n",
    "print(\"Abnormal in Train set:\", np.count_nonzero(y_train == 1))"
   ]
  },
  {
   "cell_type": "code",
   "execution_count": 10,
   "id": "675ba27e-e056-4b46-924b-636bb162fd9d",
   "metadata": {},
   "outputs": [
    {
     "name": "stdout",
     "output_type": "stream",
     "text": [
      "image_paths shape: (925,)\n",
      "image_labels shape: (925,)\n"
     ]
    }
   ],
   "source": [
    "print(\"image_paths shape:\",image_paths.shape)\n",
    "print(\"image_labels shape:\",image_labels.shape)"
   ]
  },
  {
   "cell_type": "markdown",
   "id": "7ef12658-15de-4563-a8fe-7b57873870fd",
   "metadata": {},
   "source": [
    "### 증강하지 않은 이미지에 대한 CNN모델 적용"
   ]
  },
  {
   "cell_type": "code",
   "execution_count": 13,
   "id": "237f9589-8926-4dc7-a663-c0f9ebb9d436",
   "metadata": {},
   "outputs": [],
   "source": [
    "from PIL import Image\n",
    "import matplotlib.pyplot as plt\n",
    "import cv2\n",
    "import random"
   ]
  },
  {
   "cell_type": "code",
   "execution_count": 14,
   "id": "015724d2-9e88-485c-b301-ca041f51671f",
   "metadata": {},
   "outputs": [
    {
     "name": "stdout",
     "output_type": "stream",
     "text": [
      "Image Width:  500\n",
      "Image Height:  500\n",
      "Number of Channels:  3\n"
     ]
    }
   ],
   "source": [
    "# 이미지 파일 열기\n",
    "img = Image.open('/home/jeonk636/ear_classification/eardrumDs/Aom/aom_1.tiff')\n",
    "\n",
    "# 이미지의 너비, 높이 얻기\n",
    "image_width, image_height = img.size\n",
    "\n",
    "# 이미지의 채널 수 얻기\n",
    "num_channels = len(img.getbands())\n",
    "\n",
    "print('Image Width: ', image_width)\n",
    "print('Image Height: ', image_height)\n",
    "print('Number of Channels: ', num_channels)"
   ]
  },
  {
   "cell_type": "markdown",
   "id": "9b522040-3264-47d1-85e2-31dc72cd8e4b",
   "metadata": {},
   "source": [
    "#### 참고문헌: https://www.tensorflow.org/tutorials/images/cnn?hl=ko  "
   ]
  },
  {
   "cell_type": "code",
   "execution_count": 15,
   "id": "69553548-0912-4fde-972e-c06b6a7d0e47",
   "metadata": {},
   "outputs": [
    {
     "name": "stdout",
     "output_type": "stream",
     "text": [
      "INFO:tensorflow:Using MirroredStrategy with devices ('/job:localhost/replica:0/task:0/device:GPU:0', '/job:localhost/replica:0/task:0/device:GPU:1', '/job:localhost/replica:0/task:0/device:GPU:2', '/job:localhost/replica:0/task:0/device:GPU:3')\n",
      "INFO:tensorflow:Reduce to /job:localhost/replica:0/task:0/device:CPU:0 then broadcast to ('/job:localhost/replica:0/task:0/device:CPU:0',).\n",
      "INFO:tensorflow:Reduce to /job:localhost/replica:0/task:0/device:CPU:0 then broadcast to ('/job:localhost/replica:0/task:0/device:CPU:0',).\n",
      "INFO:tensorflow:Reduce to /job:localhost/replica:0/task:0/device:CPU:0 then broadcast to ('/job:localhost/replica:0/task:0/device:CPU:0',).\n",
      "INFO:tensorflow:Reduce to /job:localhost/replica:0/task:0/device:CPU:0 then broadcast to ('/job:localhost/replica:0/task:0/device:CPU:0',).\n",
      "Epoch 1/30\n",
      "INFO:tensorflow:batch_all_reduce: 8 all-reduces with algorithm = nccl, num_packs = 1\n",
      "INFO:tensorflow:Reduce to /job:localhost/replica:0/task:0/device:CPU:0 then broadcast to ('/job:localhost/replica:0/task:0/device:CPU:0',).\n",
      "INFO:tensorflow:Reduce to /job:localhost/replica:0/task:0/device:CPU:0 then broadcast to ('/job:localhost/replica:0/task:0/device:CPU:0',).\n",
      "INFO:tensorflow:Reduce to /job:localhost/replica:0/task:0/device:CPU:0 then broadcast to ('/job:localhost/replica:0/task:0/device:CPU:0',).\n",
      "INFO:tensorflow:Reduce to /job:localhost/replica:0/task:0/device:CPU:0 then broadcast to ('/job:localhost/replica:0/task:0/device:CPU:0',).\n",
      "INFO:tensorflow:Reduce to /job:localhost/replica:0/task:0/device:CPU:0 then broadcast to ('/job:localhost/replica:0/task:0/device:CPU:0',).\n",
      "INFO:tensorflow:batch_all_reduce: 8 all-reduces with algorithm = nccl, num_packs = 1\n",
      "INFO:tensorflow:Reduce to /job:localhost/replica:0/task:0/device:CPU:0 then broadcast to ('/job:localhost/replica:0/task:0/device:CPU:0',).\n"
     ]
    },
    {
     "name": "stderr",
     "output_type": "stream",
     "text": [
      "2024-05-05 23:42:40.222797: I tensorflow/compiler/xla/stream_executor/cuda/cuda_dnn.cc:428] Loaded cuDNN version 8907\n",
      "2024-05-05 23:42:40.699975: I tensorflow/compiler/xla/stream_executor/cuda/cuda_dnn.cc:428] Loaded cuDNN version 8907\n",
      "2024-05-05 23:42:43.226322: I tensorflow/compiler/xla/stream_executor/cuda/cuda_dnn.cc:428] Loaded cuDNN version 8907\n",
      "2024-05-05 23:42:43.875736: I tensorflow/compiler/xla/stream_executor/cuda/cuda_dnn.cc:428] Loaded cuDNN version 8907\n",
      "2024-05-05 23:42:44.828606: I tensorflow/tsl/platform/default/subprocess.cc:304] Start cannot spawn child process: No such file or directory\n",
      "2024-05-05 23:42:44.833161: W tensorflow/compiler/xla/stream_executor/gpu/asm_compiler.cc:115] *** WARNING *** You are using ptxas 10.1.243, which is older than 11.1. ptxas before 11.1 is known to miscompile XLA code, leading to incorrect results or invalid-address errors.\n",
      "\n",
      "You may not need to update to CUDA 11.1; cherry-picking the ptxas binary is often sufficient.\n",
      "2024-05-05 23:42:44.931694: W tensorflow/compiler/xla/stream_executor/gpu/asm_compiler.cc:115] *** WARNING *** You are using ptxas 10.1.243, which is older than 11.1. ptxas before 11.1 is known to miscompile XLA code, leading to incorrect results or invalid-address errors.\n",
      "\n",
      "You may not need to update to CUDA 11.1; cherry-picking the ptxas binary is often sufficient.\n",
      "2024-05-05 23:42:45.439064: W tensorflow/compiler/xla/stream_executor/gpu/asm_compiler.cc:115] *** WARNING *** You are using ptxas 10.1.243, which is older than 11.1. ptxas before 11.1 is known to miscompile XLA code, leading to incorrect results or invalid-address errors.\n",
      "\n",
      "You may not need to update to CUDA 11.1; cherry-picking the ptxas binary is often sufficient.\n",
      "2024-05-05 23:42:45.947888: W tensorflow/compiler/xla/stream_executor/gpu/asm_compiler.cc:115] *** WARNING *** You are using ptxas 10.1.243, which is older than 11.1. ptxas before 11.1 is known to miscompile XLA code, leading to incorrect results or invalid-address errors.\n",
      "\n",
      "You may not need to update to CUDA 11.1; cherry-picking the ptxas binary is often sufficient.\n",
      "2024-05-05 23:42:50.025608: I tensorflow/compiler/xla/service/service.cc:173] XLA service 0x7f3efd767e00 initialized for platform CUDA (this does not guarantee that XLA will be used). Devices:\n",
      "2024-05-05 23:42:50.025665: I tensorflow/compiler/xla/service/service.cc:181]   StreamExecutor device (0): Quadro RTX 5000, Compute Capability 7.5\n",
      "2024-05-05 23:42:50.025680: I tensorflow/compiler/xla/service/service.cc:181]   StreamExecutor device (1): Quadro RTX 5000, Compute Capability 7.5\n",
      "2024-05-05 23:42:50.025692: I tensorflow/compiler/xla/service/service.cc:181]   StreamExecutor device (2): Quadro RTX 5000, Compute Capability 7.5\n",
      "2024-05-05 23:42:50.025705: I tensorflow/compiler/xla/service/service.cc:181]   StreamExecutor device (3): Quadro RTX 5000, Compute Capability 7.5\n",
      "2024-05-05 23:42:50.036091: I tensorflow/compiler/mlir/tensorflow/utils/dump_mlir_util.cc:268] disabling MLIR crash reproducer, set env var `MLIR_CRASH_REPRODUCER_DIRECTORY` to enable.\n",
      "2024-05-05 23:42:50.118925: I tensorflow/tsl/platform/default/subprocess.cc:304] Start cannot spawn child process: No such file or directory\n",
      "2024-05-05 23:42:50.119061: W tensorflow/compiler/xla/stream_executor/gpu/asm_compiler.cc:115] *** WARNING *** You are using ptxas 10.1.243, which is older than 11.1. ptxas before 11.1 is known to miscompile XLA code, leading to incorrect results or invalid-address errors.\n",
      "\n",
      "You may not need to update to CUDA 11.1; cherry-picking the ptxas binary is often sufficient.\n",
      "2024-05-05 23:42:50.182374: I tensorflow/compiler/jit/xla_compilation_cache.cc:477] Compiled cluster using XLA!  This line is logged at most once for the lifetime of the process.\n",
      "2024-05-05 23:42:50.245966: W tensorflow/compiler/xla/stream_executor/gpu/asm_compiler.cc:115] *** WARNING *** You are using ptxas 10.1.243, which is older than 11.1. ptxas before 11.1 is known to miscompile XLA code, leading to incorrect results or invalid-address errors.\n",
      "\n",
      "You may not need to update to CUDA 11.1; cherry-picking the ptxas binary is often sufficient.\n",
      "2024-05-05 23:42:50.443464: W tensorflow/compiler/xla/stream_executor/gpu/asm_compiler.cc:115] *** WARNING *** You are using ptxas 10.1.243, which is older than 11.1. ptxas before 11.1 is known to miscompile XLA code, leading to incorrect results or invalid-address errors.\n",
      "\n",
      "You may not need to update to CUDA 11.1; cherry-picking the ptxas binary is often sufficient.\n",
      "2024-05-05 23:42:50.574818: W tensorflow/compiler/xla/stream_executor/gpu/asm_compiler.cc:115] *** WARNING *** You are using ptxas 10.1.243, which is older than 11.1. ptxas before 11.1 is known to miscompile XLA code, leading to incorrect results or invalid-address errors.\n",
      "\n",
      "You may not need to update to CUDA 11.1; cherry-picking the ptxas binary is often sufficient.\n",
      "2024-05-05 23:42:50.703782: W tensorflow/compiler/xla/stream_executor/gpu/asm_compiler.cc:115] *** WARNING *** You are using ptxas 10.1.243, which is older than 11.1. ptxas before 11.1 is known to miscompile XLA code, leading to incorrect results or invalid-address errors.\n",
      "\n",
      "You may not need to update to CUDA 11.1; cherry-picking the ptxas binary is often sufficient.\n"
     ]
    },
    {
     "name": "stdout",
     "output_type": "stream",
     "text": [
      " 1/19 [>.............................] - ETA: 6:27 - loss: 0.7088 - accuracy: 0.3125"
     ]
    },
    {
     "name": "stderr",
     "output_type": "stream",
     "text": [
      "2024-05-05 23:42:50.839728: W tensorflow/compiler/xla/stream_executor/gpu/asm_compiler.cc:115] *** WARNING *** You are using ptxas 10.1.243, which is older than 11.1. ptxas before 11.1 is known to miscompile XLA code, leading to incorrect results or invalid-address errors.\n",
      "\n",
      "You may not need to update to CUDA 11.1; cherry-picking the ptxas binary is often sufficient.\n",
      "2024-05-05 23:42:50.966530: W tensorflow/compiler/xla/stream_executor/gpu/asm_compiler.cc:115] *** WARNING *** You are using ptxas 10.1.243, which is older than 11.1. ptxas before 11.1 is known to miscompile XLA code, leading to incorrect results or invalid-address errors.\n",
      "\n",
      "You may not need to update to CUDA 11.1; cherry-picking the ptxas binary is often sufficient.\n"
     ]
    },
    {
     "name": "stdout",
     "output_type": "stream",
     "text": [
      "19/19 [==============================] - 27s 304ms/step - loss: 7.1182 - accuracy: 0.5101 - val_loss: 0.6333 - val_accuracy: 0.6351\n",
      "Epoch 2/30\n",
      "19/19 [==============================] - 3s 140ms/step - loss: 0.6081 - accuracy: 0.6824 - val_loss: 0.6626 - val_accuracy: 0.5946\n",
      "Epoch 3/30\n",
      "19/19 [==============================] - 3s 140ms/step - loss: 0.5822 - accuracy: 0.6858 - val_loss: 0.5941 - val_accuracy: 0.6824\n",
      "Epoch 4/30\n",
      "19/19 [==============================] - 3s 146ms/step - loss: 0.5757 - accuracy: 0.7027 - val_loss: 0.5817 - val_accuracy: 0.7095\n",
      "Epoch 5/30\n",
      "19/19 [==============================] - 3s 152ms/step - loss: 0.5300 - accuracy: 0.7314 - val_loss: 0.6015 - val_accuracy: 0.6824\n",
      "Epoch 6/30\n",
      "19/19 [==============================] - 3s 143ms/step - loss: 0.5057 - accuracy: 0.7449 - val_loss: 0.6070 - val_accuracy: 0.6824\n",
      "Epoch 7/30\n",
      "19/19 [==============================] - 3s 147ms/step - loss: 0.5208 - accuracy: 0.7466 - val_loss: 0.5904 - val_accuracy: 0.6689\n",
      "Epoch 8/30\n",
      "19/19 [==============================] - 3s 152ms/step - loss: 0.4658 - accuracy: 0.7956 - val_loss: 0.5728 - val_accuracy: 0.7027\n",
      "Epoch 9/30\n",
      "19/19 [==============================] - 3s 149ms/step - loss: 0.4414 - accuracy: 0.7889 - val_loss: 0.5705 - val_accuracy: 0.7297\n",
      "Epoch 10/30\n",
      "19/19 [==============================] - 3s 140ms/step - loss: 0.4304 - accuracy: 0.8041 - val_loss: 0.6851 - val_accuracy: 0.6959\n",
      "Epoch 11/30\n",
      "19/19 [==============================] - 3s 141ms/step - loss: 0.4265 - accuracy: 0.8074 - val_loss: 0.5536 - val_accuracy: 0.7230\n",
      "Epoch 12/30\n",
      "19/19 [==============================] - 3s 140ms/step - loss: 0.4252 - accuracy: 0.8142 - val_loss: 0.5929 - val_accuracy: 0.7432\n",
      "Epoch 13/30\n",
      "19/19 [==============================] - 3s 140ms/step - loss: 0.3742 - accuracy: 0.8463 - val_loss: 0.6521 - val_accuracy: 0.7230\n",
      "Epoch 14/30\n",
      "19/19 [==============================] - 3s 140ms/step - loss: 0.3326 - accuracy: 0.8666 - val_loss: 0.5889 - val_accuracy: 0.7568\n",
      "Epoch 15/30\n",
      "19/19 [==============================] - 3s 140ms/step - loss: 0.2990 - accuracy: 0.8784 - val_loss: 0.7197 - val_accuracy: 0.7500\n",
      "Epoch 16/30\n",
      "19/19 [==============================] - 3s 143ms/step - loss: 0.3235 - accuracy: 0.8699 - val_loss: 0.6588 - val_accuracy: 0.6959\n",
      "Epoch 17/30\n",
      "19/19 [==============================] - 3s 150ms/step - loss: 0.3088 - accuracy: 0.8581 - val_loss: 0.6455 - val_accuracy: 0.7027\n",
      "Epoch 18/30\n",
      "19/19 [==============================] - 3s 141ms/step - loss: 0.2754 - accuracy: 0.8885 - val_loss: 0.7361 - val_accuracy: 0.6959\n",
      "Epoch 19/30\n",
      "19/19 [==============================] - 3s 140ms/step - loss: 0.2352 - accuracy: 0.9223 - val_loss: 0.6741 - val_accuracy: 0.6824\n",
      "Epoch 20/30\n",
      "19/19 [==============================] - 3s 141ms/step - loss: 0.2030 - accuracy: 0.9240 - val_loss: 0.7162 - val_accuracy: 0.7500\n",
      "Epoch 21/30\n",
      "19/19 [==============================] - 3s 141ms/step - loss: 0.2147 - accuracy: 0.9223 - val_loss: 0.8143 - val_accuracy: 0.7432\n",
      "Epoch 22/30\n",
      "19/19 [==============================] - 3s 141ms/step - loss: 0.1744 - accuracy: 0.9341 - val_loss: 0.7545 - val_accuracy: 0.7297\n",
      "Epoch 23/30\n",
      "19/19 [==============================] - 3s 142ms/step - loss: 0.1838 - accuracy: 0.9307 - val_loss: 1.0620 - val_accuracy: 0.6757\n",
      "Epoch 24/30\n",
      "19/19 [==============================] - 3s 141ms/step - loss: 0.1866 - accuracy: 0.9206 - val_loss: 0.8125 - val_accuracy: 0.7162\n",
      "Epoch 25/30\n",
      "19/19 [==============================] - 3s 144ms/step - loss: 0.1282 - accuracy: 0.9544 - val_loss: 1.1852 - val_accuracy: 0.7027\n",
      "Epoch 26/30\n",
      "19/19 [==============================] - 3s 144ms/step - loss: 0.1455 - accuracy: 0.9459 - val_loss: 0.8779 - val_accuracy: 0.7095\n",
      "Epoch 27/30\n",
      "19/19 [==============================] - 3s 141ms/step - loss: 0.1024 - accuracy: 0.9679 - val_loss: 0.9270 - val_accuracy: 0.7162\n",
      "Epoch 28/30\n",
      "19/19 [==============================] - 3s 143ms/step - loss: 0.1008 - accuracy: 0.9696 - val_loss: 0.9344 - val_accuracy: 0.7230\n",
      "Epoch 29/30\n",
      "19/19 [==============================] - 3s 141ms/step - loss: 0.0920 - accuracy: 0.9764 - val_loss: 1.2645 - val_accuracy: 0.6892\n",
      "Epoch 30/30\n",
      "19/19 [==============================] - 3s 141ms/step - loss: 0.1338 - accuracy: 0.9459 - val_loss: 1.0409 - val_accuracy: 0.6824\n",
      "6/6 [==============================] - 1s 60ms/step - loss: 1.1497 - accuracy: 0.6649\n",
      "Test accuracy: 0.6648648381233215\n"
     ]
    }
   ],
   "source": [
    "#from tensorflow.keras.preprocessing.image import img_to_array, load_img\n",
    "logical_gpus = tf.config.experimental.list_logical_devices ('GPU')\n",
    "strategy = tf.distribute.MirroredStrategy(logical_gpus)\n",
    "\n",
    "def load_and_preprocess_image(path, target_size=(500, 500)):\n",
    "    # 이미지를 RGB로 변환하여 로드\n",
    "    image = Image.open(path).convert('RGB')\n",
    "    image = image.resize(target_size)  # 목표 크기로 리사이징\n",
    "    image = np.array(image)  # 이미지를 numpy 배열로 변환\n",
    "    image = tf.convert_to_tensor(image, dtype=tf.float32) / 255.0  # 텐서로 변환하고 정규화\n",
    "    return image\n",
    "\n",
    "\n",
    "x_train = np.array([load_and_preprocess_image(path) for path in x_train])\n",
    "x_val = np.array([load_and_preprocess_image(path) for path in x_val])\n",
    "x_test = np.array([load_and_preprocess_image(path) for path in x_test])\n",
    "\n",
    "#with tf.device(\"/gpu:0\"):\n",
    "with strategy.scope():\n",
    "    model = tf.keras.Sequential([\n",
    "        tf.keras.layers.Conv2D(32, (3, 3), activation='relu', input_shape=(500, 500, 3)),\n",
    "        tf.keras.layers.MaxPooling2D((2, 2)),\n",
    "        tf.keras.layers.Conv2D(64, (3, 3), activation='relu'),\n",
    "        tf.keras.layers.MaxPooling2D((2, 2)),\n",
    "        tf.keras.layers.Flatten(),\n",
    "        tf.keras.layers.Dense(64, activation='relu'),\n",
    "        tf.keras.layers.Dense(2)\n",
    "    ])\n",
    "\n",
    "    # Compile the model\n",
    "    model.compile(optimizer='adam',\n",
    "                loss=tf.keras.losses.SparseCategoricalCrossentropy(from_logits=True),\n",
    "                metrics=['accuracy'])\n",
    "\n",
    "# Train the model\n",
    "history = model.fit(x_train, y_train, epochs=30, validation_data=(x_val, y_val))\n",
    "\n",
    "# Evaluate the model\n",
    "test_loss, test_acc = model.evaluate(x_test, y_test)\n",
    "print('Test accuracy:', test_acc)"
   ]
  },
  {
   "cell_type": "code",
   "execution_count": 16,
   "id": "604808bc-08b9-42ed-b121-42fdef68ab05",
   "metadata": {},
   "outputs": [
    {
     "name": "stdout",
     "output_type": "stream",
     "text": [
      "Model: \"sequential\"\n",
      "_________________________________________________________________\n",
      " Layer (type)                Output Shape              Param #   \n",
      "=================================================================\n",
      " conv2d (Conv2D)             (None, 498, 498, 32)      896       \n",
      "                                                                 \n",
      " max_pooling2d (MaxPooling2D  (None, 249, 249, 32)     0         \n",
      " )                                                               \n",
      "                                                                 \n",
      " conv2d_1 (Conv2D)           (None, 247, 247, 64)      18496     \n",
      "                                                                 \n",
      " max_pooling2d_1 (MaxPooling  (None, 123, 123, 64)     0         \n",
      " 2D)                                                             \n",
      "                                                                 \n",
      " flatten (Flatten)           (None, 968256)            0         \n",
      "                                                                 \n",
      " dense (Dense)               (None, 64)                61968448  \n",
      "                                                                 \n",
      " dense_1 (Dense)             (None, 2)                 130       \n",
      "                                                                 \n",
      "=================================================================\n",
      "Total params: 61,987,970\n",
      "Trainable params: 61,987,970\n",
      "Non-trainable params: 0\n",
      "_________________________________________________________________\n"
     ]
    }
   ],
   "source": [
    "model.summary()"
   ]
  },
  {
   "cell_type": "code",
   "execution_count": 17,
   "id": "b7ce800b-aa9b-495f-b1c1-b524e0857b75",
   "metadata": {},
   "outputs": [
    {
     "name": "stdout",
     "output_type": "stream",
     "text": [
      "5/5 - 0s - loss: 1.0409 - accuracy: 0.6824 - 349ms/epoch - 70ms/step\n"
     ]
    },
    {
     "data": {
      "image/png": "[encoded data removed]",
      "text/plain": [
       "<Figure size 640x480 with 1 Axes>"
      ]
     },
     "metadata": {},
     "output_type": "display_data"
    }
   ],
   "source": [
    "plt.plot(history.history['accuracy'], label='accuracy')\n",
    "plt.plot(history.history['val_accuracy'], label = 'val_accuracy')\n",
    "plt.xlabel('Epoch')\n",
    "plt.ylabel('Accuracy')\n",
    "plt.ylim([0.5, 1])\n",
    "plt.legend(loc='lower right')\n",
    "\n",
    "test_loss, test_acc = model.evaluate(x_val,  y_val, verbose=2)"
   ]
  },
  {
   "cell_type": "code",
   "execution_count": null,
   "id": "76bfd3ba",
   "metadata": {},
   "outputs": [],
   "source": []
  }
 ],
 "metadata": {
  "kernelspec": {
   "display_name": "Python 3 (ipykernel)",
   "language": "python",
   "name": "python3"
  },
  "language_info": {
   "codemirror_mode": {
    "name": "ipython",
    "version": 3
   },
   "file_extension": ".py",
   "mimetype": "text/x-python",
   "name": "python",
   "nbconvert_exporter": "python",
   "pygments_lexer": "ipython3",
   "version": "3.9.19"
  }
 },
 "nbformat": 4,
 "nbformat_minor": 5
}
