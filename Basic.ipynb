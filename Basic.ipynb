{
 "cells": [
  {
   "cell_type": "markdown",
   "id": "3ad4426b-7702-4d27-9ed6-cfd1e850237a",
   "metadata": {},
   "source": [
    "# 데이터 불러오기 및 라벨링"
   ]
  },
  {
   "cell_type": "code",
   "execution_count": 1,
   "id": "0ac84fc3-db36-4bec-abcb-a7ef436e4fff",
   "metadata": {},
   "outputs": [],
   "source": [
    "import os\n",
    "\n",
    "# 데이터셋의 루트 디렉토리\n",
    "dataset_directory = '/home/jeonk636/ear_classification/eardrumDs'\n",
    "\n",
    "# 클래스 이름 및 라벨을 매핑하기 위한 딕셔너리 생성\n",
    "# normal:0, abnormal: 1\n",
    "label_map = {\n",
    "    'Aom': 1,\n",
    "    'Chornic': 1,\n",
    "    'Earwax': 1,\n",
    "    'Normal': 0,\n",
    "    'OtitExterna': 1,\n",
    "    'tympanoskleros': 1\n",
    "}\n",
    "\n",
    "# 이미지 파일 경로 및 라벨을 저장할 리스트\n",
    "image_paths = []\n",
    "image_labels = []\n",
    "\n",
    "# 제외 폴더\n",
    "exclude_folders = {'Earventulation', 'Foreign', 'PseduoMembran'}\n",
    "\n",
    "# 각 폴더에 대해 이미지 파일 경로 및 해당 라벨을 리스트에 추가\n",
    "for label_folder in os.listdir(dataset_directory):\n",
    "    if label_folder in exclude_folders:  # 이 폴더는 건너뛴다.\n",
    "        continue\n",
    "    folder_path = os.path.join(dataset_directory, label_folder)\n",
    "    \n",
    "    for image_filename in os.listdir(folder_path):\n",
    "        # 폴더 내 파일이 실제 파일인지 확인하고 '.ipynb_checkpoints' 폴더를 건너뛴다.\n",
    "        full_path = os.path.join(folder_path, image_filename)\n",
    "        if os.path.isfile(full_path) and '.ipynb_checkpoints' not in full_path:\n",
    "            image_paths.append(full_path)\n",
    "            image_labels.append(label_map[label_folder])"
   ]
  },
  {
   "cell_type": "code",
   "execution_count": 2,
   "id": "7e087d6f-0eee-4127-b394-df2c06e2780b",
   "metadata": {},
   "outputs": [
    {
     "data": {
      "text/plain": [
       "['/home/jeonk636/ear_classification/eardrumDs/Aom/aom_1.tiff',\n",
       " '/home/jeonk636/ear_classification/eardrumDs/Aom/aom_10.tiff',\n",
       " '/home/jeonk636/ear_classification/eardrumDs/Aom/aom_100.tiff',\n",
       " '/home/jeonk636/ear_classification/eardrumDs/Aom/aom_101.tiff',\n",
       " '/home/jeonk636/ear_classification/eardrumDs/Aom/aom_102.tiff']"
      ]
     },
     "execution_count": 2,
     "metadata": {},
     "output_type": "execute_result"
    }
   ],
   "source": [
    "image_paths[0:5]"
   ]
  },
  {
   "cell_type": "code",
   "execution_count": 3,
   "id": "3329e4e3-5f0e-45a8-beb9-b666f5969005",
   "metadata": {},
   "outputs": [
    {
     "name": "stdout",
     "output_type": "stream",
     "text": [
      "[1, 1, 1, 1, 1, 1, 1, 1, 1, 1, 1, 1, 1, 1, 1, 1, 1, 1, 1, 1, 1, 1, 1, 1, 1, 1, 1, 1, 1, 1, 1, 1, 1, 1, 1, 1, 1, 1, 1, 1, 1, 1, 1, 1, 1, 1, 1, 1, 1, 1]\n"
     ]
    }
   ],
   "source": [
    "print(image_labels[0:50])"
   ]
  },
  {
   "cell_type": "code",
   "execution_count": 4,
   "id": "1f77f815-6c6d-4f28-8ee0-3b0cf731336c",
   "metadata": {},
   "outputs": [
    {
     "data": {
      "text/plain": [
       "(534, 391)"
      ]
     },
     "execution_count": 4,
     "metadata": {},
     "output_type": "execute_result"
    }
   ],
   "source": [
    "# 라벨 0과 라벨 1의 개수를 계산.\n",
    "label_0_count = image_labels.count(0)\n",
    "label_1_count = image_labels.count(1)\n",
    "\n",
    "(label_0_count, label_1_count)"
   ]
  },
  {
   "cell_type": "markdown",
   "id": "00b0af22-57b4-4c72-a6d5-2b059e796787",
   "metadata": {},
   "source": [
    "# Split the Dataset 6 : 2 : 2 "
   ]
  },
  {
   "cell_type": "code",
   "execution_count": 5,
   "id": "565ac24f-2fa0-410a-acba-f78f314214f8",
   "metadata": {},
   "outputs": [],
   "source": [
    "import numpy as np\n",
    "from sklearn.model_selection import train_test_split\n",
    "\n",
    "# 이미지 경로와 라벨을 Numpy 배열로 변환\n",
    "image_paths = np.array(image_paths)\n",
    "image_labels = np.array(image_labels)\n",
    "\n",
    "# 전체 데이터를 훈련+검증 세트와 테스트 세트로 분할\n",
    "x_train_all, x_test, y_train_all, y_test = train_test_split(\n",
    "    image_paths, image_labels, stratify=image_labels, test_size=0.2, random_state=42)\n",
    "\n",
    "# 훈련+검증 세트를 훈련 세트와 검증 세트로 분할\n",
    "x_train, x_val, y_train, y_val = train_test_split(\n",
    "    x_train_all, y_train_all, stratify=y_train_all, test_size=0.2, random_state=42)"
   ]
  },
  {
   "cell_type": "code",
   "execution_count": 6,
   "id": "6d72220e-959e-48bf-8e24-46dff770065b",
   "metadata": {},
   "outputs": [
    {
     "name": "stdout",
     "output_type": "stream",
     "text": [
      "Train set: 592\n",
      "Validation set: 148\n",
      "Test set: 185\n"
     ]
    }
   ],
   "source": [
    "# 결과 출력\n",
    "print(\"Train set:\", len(x_train))\n",
    "print(\"Validation set:\", len(x_val))\n",
    "print(\"Test set:\", len(x_test))"
   ]
  },
  {
   "cell_type": "code",
   "execution_count": 7,
   "id": "32a0ae48-e314-49ae-840d-5c96c1ec4090",
   "metadata": {},
   "outputs": [
    {
     "name": "stdout",
     "output_type": "stream",
     "text": [
      "Normal in Train set: 342\n",
      "Abnormal in Train set: 250\n"
     ]
    }
   ],
   "source": [
    "print(\"Normal in Train set:\", np.count_nonzero(y_train == 0))\n",
    "print(\"Abnormal in Train set:\", np.count_nonzero(y_train == 1))"
   ]
  },
  {
   "cell_type": "code",
   "execution_count": 8,
   "id": "675ba27e-e056-4b46-924b-636bb162fd9d",
   "metadata": {},
   "outputs": [
    {
     "name": "stdout",
     "output_type": "stream",
     "text": [
      "image_paths shape: (925,)\n",
      "image_labels shape: (925,)\n"
     ]
    }
   ],
   "source": [
    "print(\"image_paths shape:\",image_paths.shape)\n",
    "print(\"image_labels shape:\",image_labels.shape)"
   ]
  },
  {
   "cell_type": "markdown",
   "id": "7ef12658-15de-4563-a8fe-7b57873870fd",
   "metadata": {},
   "source": [
    "### 증강하지 않은 이미지에 대한 CNN모델 적용"
   ]
  },
  {
   "cell_type": "code",
   "execution_count": 10,
   "id": "237f9589-8926-4dc7-a663-c0f9ebb9d436",
   "metadata": {},
   "outputs": [
    {
     "name": "stderr",
     "output_type": "stream",
     "text": [
      "2024-05-02 05:17:03.111151: I tensorflow/core/util/port.cc:113] oneDNN custom operations are on. You may see slightly different numerical results due to floating-point round-off errors from different computation orders. To turn them off, set the environment variable `TF_ENABLE_ONEDNN_OPTS=0`.\n",
      "2024-05-02 05:17:03.150066: E external/local_xla/xla/stream_executor/cuda/cuda_dnn.cc:9261] Unable to register cuDNN factory: Attempting to register factory for plugin cuDNN when one has already been registered\n",
      "2024-05-02 05:17:03.150089: E external/local_xla/xla/stream_executor/cuda/cuda_fft.cc:607] Unable to register cuFFT factory: Attempting to register factory for plugin cuFFT when one has already been registered\n",
      "2024-05-02 05:17:03.151346: E external/local_xla/xla/stream_executor/cuda/cuda_blas.cc:1515] Unable to register cuBLAS factory: Attempting to register factory for plugin cuBLAS when one has already been registered\n",
      "2024-05-02 05:17:03.158413: I tensorflow/core/platform/cpu_feature_guard.cc:182] This TensorFlow binary is optimized to use available CPU instructions in performance-critical operations.\n",
      "To enable the following instructions: AVX2 AVX512F AVX512_VNNI FMA, in other operations, rebuild TensorFlow with the appropriate compiler flags.\n",
      "2024-05-02 05:17:04.865898: W tensorflow/compiler/tf2tensorrt/utils/py_utils.cc:38] TF-TRT Warning: Could not find TensorRT\n"
     ]
    }
   ],
   "source": [
    "from PIL import Image\n",
    "import matplotlib.pyplot as plt\n",
    "import cv2\n",
    "import tensorflow as tf\n",
    "import random"
   ]
  },
  {
   "cell_type": "code",
   "execution_count": 11,
   "id": "015724d2-9e88-485c-b301-ca041f51671f",
   "metadata": {},
   "outputs": [
    {
     "name": "stdout",
     "output_type": "stream",
     "text": [
      "Image Width:  500\n",
      "Image Height:  500\n",
      "Number of Channels:  3\n"
     ]
    }
   ],
   "source": [
    "# 이미지 파일 열기\n",
    "img = Image.open('/home/jeonk636/ear_classification/eardrumDs/Aom/aom_1.tiff')\n",
    "\n",
    "# 이미지의 너비, 높이 얻기\n",
    "image_width, image_height = img.size\n",
    "\n",
    "# 이미지의 채널 수 얻기\n",
    "num_channels = len(img.getbands())\n",
    "\n",
    "print('Image Width: ', image_width)\n",
    "print('Image Height: ', image_height)\n",
    "print('Number of Channels: ', num_channels)"
   ]
  },
  {
   "cell_type": "markdown",
   "id": "9b522040-3264-47d1-85e2-31dc72cd8e4b",
   "metadata": {},
   "source": [
    "#### 참고문헌: https://www.tensorflow.org/tutorials/images/cnn?hl=ko  "
   ]
  },
  {
   "cell_type": "code",
   "execution_count": 13,
   "id": "69553548-0912-4fde-972e-c06b6a7d0e47",
   "metadata": {},
   "outputs": [
    {
     "name": "stdout",
     "output_type": "stream",
     "text": [
      "Epoch 1/30\n",
      "19/19 [==============================] - 11s 502ms/step - loss: 3.1896 - accuracy: 0.6047 - val_loss: 0.6374 - val_accuracy: 0.6689\n",
      "Epoch 2/30\n",
      "19/19 [==============================] - 9s 470ms/step - loss: 0.6290 - accuracy: 0.6689 - val_loss: 0.6110 - val_accuracy: 0.6689\n",
      "Epoch 3/30\n",
      "19/19 [==============================] - 9s 487ms/step - loss: 0.5921 - accuracy: 0.6807 - val_loss: 0.5914 - val_accuracy: 0.7027\n",
      "Epoch 4/30\n",
      "19/19 [==============================] - 9s 460ms/step - loss: 0.5619 - accuracy: 0.7162 - val_loss: 0.6035 - val_accuracy: 0.6959\n",
      "Epoch 5/30\n",
      "19/19 [==============================] - 9s 497ms/step - loss: 0.5311 - accuracy: 0.7331 - val_loss: 0.5948 - val_accuracy: 0.7162\n",
      "Epoch 6/30\n",
      "19/19 [==============================] - 9s 462ms/step - loss: 0.5057 - accuracy: 0.7568 - val_loss: 0.5722 - val_accuracy: 0.7432\n",
      "Epoch 7/30\n",
      "19/19 [==============================] - 9s 465ms/step - loss: 0.4656 - accuracy: 0.7635 - val_loss: 0.5795 - val_accuracy: 0.7027\n",
      "Epoch 8/30\n",
      "19/19 [==============================] - 9s 451ms/step - loss: 0.4591 - accuracy: 0.7973 - val_loss: 0.5510 - val_accuracy: 0.7432\n",
      "Epoch 9/30\n",
      "19/19 [==============================] - 10s 506ms/step - loss: 0.3875 - accuracy: 0.8328 - val_loss: 0.6067 - val_accuracy: 0.7230\n",
      "Epoch 10/30\n",
      "19/19 [==============================] - 9s 458ms/step - loss: 0.3594 - accuracy: 0.8412 - val_loss: 0.6848 - val_accuracy: 0.7095\n",
      "Epoch 11/30\n",
      "19/19 [==============================] - 9s 472ms/step - loss: 0.3234 - accuracy: 0.8514 - val_loss: 0.6387 - val_accuracy: 0.7365\n",
      "Epoch 12/30\n",
      "19/19 [==============================] - 9s 459ms/step - loss: 0.2873 - accuracy: 0.8970 - val_loss: 0.7665 - val_accuracy: 0.7365\n",
      "Epoch 13/30\n",
      "19/19 [==============================] - 9s 465ms/step - loss: 0.3719 - accuracy: 0.8294 - val_loss: 0.6039 - val_accuracy: 0.7162\n",
      "Epoch 14/30\n",
      "19/19 [==============================] - 9s 466ms/step - loss: 0.3285 - accuracy: 0.8615 - val_loss: 0.6166 - val_accuracy: 0.7635\n",
      "Epoch 15/30\n",
      "19/19 [==============================] - 9s 468ms/step - loss: 0.2608 - accuracy: 0.8885 - val_loss: 0.8191 - val_accuracy: 0.6284\n",
      "Epoch 16/30\n",
      "19/19 [==============================] - 9s 464ms/step - loss: 0.2807 - accuracy: 0.8919 - val_loss: 0.6790 - val_accuracy: 0.6959\n",
      "Epoch 17/30\n",
      "19/19 [==============================] - 9s 465ms/step - loss: 0.2642 - accuracy: 0.8902 - val_loss: 0.8953 - val_accuracy: 0.6824\n",
      "Epoch 18/30\n",
      "19/19 [==============================] - 9s 461ms/step - loss: 0.2178 - accuracy: 0.9189 - val_loss: 0.8785 - val_accuracy: 0.6892\n",
      "Epoch 19/30\n",
      "19/19 [==============================] - 9s 452ms/step - loss: 0.1814 - accuracy: 0.9206 - val_loss: 0.7654 - val_accuracy: 0.6757\n",
      "Epoch 20/30\n",
      "19/19 [==============================] - 9s 454ms/step - loss: 0.1170 - accuracy: 0.9578 - val_loss: 0.8098 - val_accuracy: 0.6892\n",
      "Epoch 21/30\n",
      "19/19 [==============================] - 9s 455ms/step - loss: 0.1155 - accuracy: 0.9578 - val_loss: 0.9836 - val_accuracy: 0.7365\n",
      "Epoch 22/30\n",
      "19/19 [==============================] - 9s 498ms/step - loss: 0.0956 - accuracy: 0.9696 - val_loss: 1.0173 - val_accuracy: 0.7432\n",
      "Epoch 23/30\n",
      "19/19 [==============================] - 9s 462ms/step - loss: 0.0886 - accuracy: 0.9696 - val_loss: 1.1052 - val_accuracy: 0.7297\n",
      "Epoch 24/30\n",
      "19/19 [==============================] - 9s 465ms/step - loss: 0.1263 - accuracy: 0.9459 - val_loss: 0.9739 - val_accuracy: 0.7365\n",
      "Epoch 25/30\n",
      "19/19 [==============================] - 9s 463ms/step - loss: 0.0983 - accuracy: 0.9645 - val_loss: 1.2105 - val_accuracy: 0.6689\n",
      "Epoch 26/30\n",
      "19/19 [==============================] - 9s 475ms/step - loss: 0.0727 - accuracy: 0.9747 - val_loss: 1.1445 - val_accuracy: 0.7365\n",
      "Epoch 27/30\n",
      "19/19 [==============================] - 10s 511ms/step - loss: 0.0593 - accuracy: 0.9797 - val_loss: 1.1235 - val_accuracy: 0.6959\n",
      "Epoch 28/30\n",
      "19/19 [==============================] - 10s 507ms/step - loss: 0.0256 - accuracy: 0.9932 - val_loss: 1.3337 - val_accuracy: 0.6892\n",
      "Epoch 29/30\n",
      "19/19 [==============================] - 10s 508ms/step - loss: 0.0552 - accuracy: 0.9764 - val_loss: 1.2759 - val_accuracy: 0.7027\n",
      "Epoch 30/30\n",
      "19/19 [==============================] - 10s 526ms/step - loss: 0.0506 - accuracy: 0.9932 - val_loss: 1.4689 - val_accuracy: 0.7162\n",
      "6/6 [==============================] - 1s 104ms/step - loss: 1.4668 - accuracy: 0.7622\n",
      "Test accuracy: 0.7621621489524841\n"
     ]
    }
   ],
   "source": [
    "from tensorflow.keras.preprocessing.image import img_to_array, load_img\n",
    "\n",
    "def load_and_preprocess_image(path, target_size=(500, 500)):\n",
    "    # 이미지를 RGB로 변환하여 로드\n",
    "    image = Image.open(path).convert('RGB')\n",
    "    image = image.resize(target_size)  # 목표 크기로 리사이징\n",
    "    image = np.array(image)  # 이미지를 numpy 배열로 변환\n",
    "    image = tf.convert_to_tensor(image, dtype=tf.float32) / 255.0  # 텐서로 변환하고 정규화\n",
    "    return image\n",
    "\n",
    "\n",
    "x_train = np.array([load_and_preprocess_image(path) for path in x_train])\n",
    "x_val = np.array([load_and_preprocess_image(path) for path in x_val])\n",
    "x_test = np.array([load_and_preprocess_image(path) for path in x_test])\n",
    "\n",
    "# Define the model\n",
    "model = tf.keras.Sequential([\n",
    "    tf.keras.layers.Conv2D(32, (3, 3), activation='relu', input_shape=(500, 500, 3)),\n",
    "    tf.keras.layers.MaxPooling2D((2, 2)),\n",
    "    tf.keras.layers.Conv2D(64, (3, 3), activation='relu'),\n",
    "    tf.keras.layers.MaxPooling2D((2, 2)),\n",
    "    tf.keras.layers.Flatten(),\n",
    "    tf.keras.layers.Dense(64, activation='relu'),\n",
    "    tf.keras.layers.Dense(2)\n",
    "])\n",
    "\n",
    "# Compile the model\n",
    "model.compile(optimizer='adam',\n",
    "              loss=tf.keras.losses.SparseCategoricalCrossentropy(from_logits=True),\n",
    "              metrics=['accuracy'])\n",
    "\n",
    "# Train the model\n",
    "history = model.fit(x_train, y_train, epochs=30, validation_data=(x_val, y_val))\n",
    "\n",
    "# Evaluate the model\n",
    "test_loss, test_acc = model.evaluate(x_test, y_test)\n",
    "print('Test accuracy:', test_acc)"
   ]
  },
  {
   "cell_type": "code",
   "execution_count": 14,
   "id": "604808bc-08b9-42ed-b121-42fdef68ab05",
   "metadata": {},
   "outputs": [
    {
     "name": "stdout",
     "output_type": "stream",
     "text": [
      "Model: \"sequential\"\n",
      "_________________________________________________________________\n",
      " Layer (type)                Output Shape              Param #   \n",
      "=================================================================\n",
      " conv2d (Conv2D)             (None, 498, 498, 32)      896       \n",
      "                                                                 \n",
      " max_pooling2d (MaxPooling2  (None, 249, 249, 32)      0         \n",
      " D)                                                              \n",
      "                                                                 \n",
      " conv2d_1 (Conv2D)           (None, 247, 247, 64)      18496     \n",
      "                                                                 \n",
      " max_pooling2d_1 (MaxPoolin  (None, 123, 123, 64)      0         \n",
      " g2D)                                                            \n",
      "                                                                 \n",
      " flatten (Flatten)           (None, 968256)            0         \n",
      "                                                                 \n",
      " dense (Dense)               (None, 64)                61968448  \n",
      "                                                                 \n",
      " dense_1 (Dense)             (None, 2)                 130       \n",
      "                                                                 \n",
      "=================================================================\n",
      "Total params: 61987970 (236.47 MB)\n",
      "Trainable params: 61987970 (236.47 MB)\n",
      "Non-trainable params: 0 (0.00 Byte)\n",
      "_________________________________________________________________\n"
     ]
    }
   ],
   "source": [
    "model.summary()"
   ]
  },
  {
   "cell_type": "code",
   "execution_count": 15,
   "id": "b7ce800b-aa9b-495f-b1c1-b524e0857b75",
   "metadata": {},
   "outputs": [
    {
     "name": "stdout",
     "output_type": "stream",
     "text": [
      "5/5 - 1s - loss: 1.4689 - accuracy: 0.7162 - 555ms/epoch - 111ms/step\n"
     ]
    },
    {
     "data": {
      "image/png": "[encoded data removed]",
      "text/plain": [
       "<Figure size 640x480 with 1 Axes>"
      ]
     },
     "metadata": {},
     "output_type": "display_data"
    }
   ],
   "source": [
    "plt.plot(history.history['accuracy'], label='accuracy')\n",
    "plt.plot(history.history['val_accuracy'], label = 'val_accuracy')\n",
    "plt.xlabel('Epoch')\n",
    "plt.ylabel('Accuracy')\n",
    "plt.ylim([0.5, 1])\n",
    "plt.legend(loc='lower right')\n",
    "\n",
    "test_loss, test_acc = model.evaluate(x_val,  y_val, verbose=2)"
   ]
  },
  {
   "cell_type": "code",
   "execution_count": null,
   "id": "72771c7d-d628-4be6-82bd-54477704fe61",
   "metadata": {},
   "outputs": [],
   "source": []
  }
 ],
 "metadata": {
  "kernelspec": {
   "display_name": "Python 3 (ipykernel)",
   "language": "python",
   "name": "python3"
  },
  "language_info": {
   "codemirror_mode": {
    "name": "ipython",
    "version": 3
   },
   "file_extension": ".py",
   "mimetype": "text/x-python",
   "name": "python",
   "nbconvert_exporter": "python",
   "pygments_lexer": "ipython3",
   "version": "3.10.12"
  }
 },
 "nbformat": 4,
 "nbformat_minor": 5
}
